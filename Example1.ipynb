{
 "cells": [
  {
   "cell_type": "markdown",
   "id": "fecbfcec",
   "metadata": {},
   "source": [
    "# Simple example on use of Julia JuMP for a LP problem."
   ]
  },
  {
   "cell_type": "markdown",
   "id": "4e70924f",
   "metadata": {},
   "source": [
    "The company Paint Deals produces two colors of paint, blue and black.\n",
    "- Blue paint is sold for US\\\\$10 per liter, while black paint is sold for US\\\\$15\n",
    "per liter.\n",
    "- The company owns a process plant which can produce one color paint at\n",
    "a time.\n",
    "- However, blue paint is produced at a rate of 40 liters per hour, while the\n",
    "production rate for black paint is 30 liters per hour.\n",
    "- Besides, the marketing department estimates that at most 860 liters of\n",
    "black paint and 1000 liters of blue paint can be sold in the market.\n",
    "- During a week, the plant can operate for 40 hours and the paint can be\n",
    "stored for the following week.\n",
    "- Determine how many liters of each paint should be produced to maximize\n",
    "week revenue."
   ]
  },
  {
   "cell_type": "markdown",
   "id": "efdafd0f",
   "metadata": {},
   "source": [
    "This problem can be written as a linear program:\n",
    "\\begin{align}\n",
    "\\max \\quad & 10 \\cdot \\text{BluePaint} + 15 \\cdot \\text{BlackPaint} \\\\\n",
    " \\text{subject to} \\quad & \\frac{1}{40} \\cdot \\text{BluePaint} + \\frac{1}{30} \\cdot \\text{BlackPaint} \\leq 40 \\\\\n",
    " & 0 \\leq \\text{BluePaint} \\leq 860 \\\\\n",
    " & 0 \\leq \\text{BlackPaint} \\leq 1000 \n",
    "\\end{align}"
   ]
  },
  {
   "cell_type": "markdown",
   "id": "63648563",
   "metadata": {},
   "source": [
    "We first need to tell Julia that we are using JuMP (has to be installed beforehand):"
   ]
  },
  {
   "cell_type": "code",
   "execution_count": 6,
   "id": "1bc580b2",
   "metadata": {},
   "outputs": [],
   "source": [
    "using JuMP"
   ]
  },
  {
   "cell_type": "markdown",
   "id": "5aab03c8",
   "metadata": {},
   "source": [
    "Then we need to include an appropriate solver for the optimization problem. In this case the solver is GLPK (must also be installed beforehand)."
   ]
  },
  {
   "cell_type": "code",
   "execution_count": 7,
   "id": "48bcad90",
   "metadata": {},
   "outputs": [],
   "source": [
    "using GLPK"
   ]
  },
  {
   "cell_type": "markdown",
   "id": "official-zambia",
   "metadata": {},
   "source": [
    "In JuMP, we define our optimization problem as an (optimization) model, using the model object. The model object is a container for variables, constraints, objective, solver options, etc. for the optimization problem. When we create the model object, we can tell the constructor which optimizer we will use:"
   ]
  },
  {
   "cell_type": "code",
   "execution_count": 8,
   "id": "coordinated-psychiatry",
   "metadata": {},
   "outputs": [],
   "source": [
    "model = Model(GLPK.Optimizer);"
   ]
  },
  {
   "cell_type": "markdown",
   "id": "guided-subscription",
   "metadata": {},
   "source": [
    "Then we need to define the optimization variables. We use `@variable(name of the model object, variable name and bound, variable type)` to do this. The bound can be a lower bound, an upper bound, or both. If no variable type is specified, then the default is real."
   ]
  },
  {
   "cell_type": "code",
   "execution_count": 9,
   "id": "everyday-orange",
   "metadata": {},
   "outputs": [],
   "source": [
    "@variable(model, 0 <= BluePaint <= 860)\n",
    "@variable(model, 0 <= BlackPaint <= 1000);"
   ]
  },
  {
   "cell_type": "markdown",
   "id": "australian-ladder",
   "metadata": {},
   "source": [
    "We specify constraints using `@constraint(name of the model object, constraint)`. In this case, we have only one constraint other than the variable bounds:"
   ]
  },
  {
   "cell_type": "code",
   "execution_count": 10,
   "id": "theoretical-compression",
   "metadata": {},
   "outputs": [],
   "source": [
    "@constraint(model, (1/40)*BluePaint + (1/30)*BlackPaint <= 40);"
   ]
  },
  {
   "cell_type": "markdown",
   "id": "ranking-ethiopia",
   "metadata": {},
   "source": [
    "In a similar manner, we specify the objective using `@objective(name of the model object, Min/Max, function to be optimized)`:"
   ]
  },
  {
   "cell_type": "code",
   "execution_count": 11,
   "id": "minus-assets",
   "metadata": {},
   "outputs": [],
   "source": [
    "@objective(model, Max, 10*BluePaint + 15*BlackPaint);"
   ]
  },
  {
   "cell_type": "markdown",
   "id": "hawaiian-dining",
   "metadata": {},
   "source": [
    "We are now ready to solve the optimization problem, using the `optimize` function. Note that the solution will be stored within the Model object and the variables."
   ]
  },
  {
   "cell_type": "code",
   "execution_count": 26,
   "id": "orange-latitude",
   "metadata": {},
   "outputs": [],
   "source": [
    "optimize!(model)"
   ]
  },
  {
   "cell_type": "markdown",
   "id": "suffering-watershed",
   "metadata": {},
   "source": [
    "We can print the value of the variables at the solution, and the objective function value."
   ]
  },
  {
   "cell_type": "code",
   "execution_count": 27,
   "id": "educational-norfolk",
   "metadata": {},
   "outputs": [
    {
     "name": "stdout",
     "output_type": "stream",
     "text": [
      "value(BluePaint) = 266.6666666666666\n",
      "value(BlackPaint) = 1000.0\n",
      "objective_value(model) = 17666.666666666664\n"
     ]
    }
   ],
   "source": [
    "@show value(BluePaint);\n",
    "@show value(BlackPaint);\n",
    "@show objective_value(model);"
   ]
  },
  {
   "cell_type": "markdown",
   "id": "threaded-disposition",
   "metadata": {},
   "source": [
    "Often, we use vector variables. We can specify the optimization problem using vector variables in the following way:"
   ]
  },
  {
   "cell_type": "code",
   "execution_count": 25,
   "id": "spoken-sarah",
   "metadata": {},
   "outputs": [
    {
     "name": "stdout",
     "output_type": "stream",
     "text": [
      "value.(x) = [266.6666666666666, 1000.0]\n",
      "objective_value(model2) = 17666.666666666664\n"
     ]
    }
   ],
   "source": [
    "model2 = Model(GLPK.Optimizer)\n",
    "@variable(model2, (0; 0) <= x[1:2] <= (860; 1000) )\n",
    "\n",
    "@constraint(model2, (1/40)*x[1] + (1/30)*x[2] <= 40)\n",
    "\n",
    "@objective(model2, Max, 10*x[1] + 15*x[2])\n",
    "\n",
    "optimize!(model2)\n",
    "\n",
    "@show value.(x);\n",
    "@show objective_value(model2);"
   ]
  },
  {
   "cell_type": "code",
   "execution_count": null,
   "id": "hired-making",
   "metadata": {},
   "outputs": [],
   "source": []
  }
 ],
 "metadata": {
  "kernelspec": {
   "display_name": "Julia 1.6.3",
   "language": "julia",
   "name": "julia-1.6"
  },
  "language_info": {
   "file_extension": ".jl",
   "mimetype": "application/julia",
   "name": "julia",
   "version": "1.6.3"
  }
 },
 "nbformat": 4,
 "nbformat_minor": 5
}
